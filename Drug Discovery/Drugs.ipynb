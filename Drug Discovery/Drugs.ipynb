{
 "cells": [
  {
   "cell_type": "code",
   "execution_count": 16,
   "metadata": {},
   "outputs": [],
   "source": [
    "import spacy\n",
    "from spacy import displacy\n",
    "import en_ner_bc5cdr_md\n",
    "import sys\n",
    "import os\n",
    "import gc\n",
    "from spacy.matcher import Matcher\n",
    "from tqdm import tqdm\n",
    "from spacy.util import minibatch, compounding"
   ]
  },
  {
   "cell_type": "code",
   "execution_count": 7,
   "metadata": {},
   "outputs": [],
   "source": [
    "# sets the model, output directory and training iterations \n",
    "model = en_ner_bc5cdr_md\n",
    "#output_dir=Path(\"C:\\\\Users\\\\\")\n",
    "n_iter=100"
   ]
  },
  {
   "cell_type": "code",
   "execution_count": 8,
   "metadata": {},
   "outputs": [
    {
     "name": "stdout",
     "output_type": "stream",
     "text": [
      "Loaded model '<module 'en_ner_bc5cdr_md' from 'C:\\\\Users\\\\HP\\\\anaconda3\\\\lib\\\\site-packages\\\\en_ner_bc5cdr_md\\\\__init__.py'>'\n"
     ]
    }
   ],
   "source": [
    "if model is not None:\n",
    "    nlp = spacy.load('en_ner_bc5cdr_md')  # load existing spaCy model\n",
    "    print(\"Loaded model '%s'\" % model)\n",
    "else:\n",
    "# this will create a blank english model\n",
    "    nlp = spacy.blank('en')  # create blank Language class\n",
    "    print(\"Created blank 'en' model\")"
   ]
  },
  {
   "cell_type": "code",
   "execution_count": 9,
   "metadata": {},
   "outputs": [],
   "source": [
    "LABEL='ADRS'\n",
    "TRAIN_DATA = [\n",
    "    (\n",
    "        \"arrhythmia\",\n",
    "        {\"entities\": [(0, 10, LABEL)]},\n",
    "    ),\n",
    "    \n",
    "    (\n",
    "        \"hallucinations\",\n",
    "        {\"entities\": [(0, 14, LABEL)]},\n",
    "    ),\n",
    "    (\"amnesia\", {\"entities\": [(0, 7, LABEL)]}),\n",
    "    (\n",
    "        \"delirium\",\n",
    "        {\"entities\": [(0,8, LABEL)]},\n",
    "    ),\n",
    "    (\"psychosis\", {\"entities\": [(0, 9, LABEL)]}),\n",
    "]\n"
   ]
  },
  {
   "cell_type": "code",
   "execution_count": 17,
   "metadata": {},
   "outputs": [
    {
     "name": "stdout",
     "output_type": "stream",
     "text": [
      "Losses {'ner': 7.04498565196991}\n",
      "Losses {'ner': 5.056262016296387}\n",
      "Losses {'ner': 4.032177627086639}\n",
      "Losses {'ner': 2.5926345586776733}\n",
      "Losses {'ner': 3.697047919034958}\n",
      "Losses {'ner': 3.1771883964538574}\n",
      "Losses {'ner': 1.0663225054740906}\n",
      "Losses {'ner': 0.9110657572746277}\n",
      "Losses {'ner': 1.6751046716235578}\n",
      "Losses {'ner': 0.0035013797896681353}\n",
      "Losses {'ner': 2.5083584984658955}\n",
      "Losses {'ner': 0.8333648564184841}\n",
      "Losses {'ner': 1.733345779721276}\n",
      "Losses {'ner': 1.688888798648013}\n",
      "Losses {'ner': 0.6666668654466216}\n",
      "Losses {'ner': 0.8000000119314555}\n",
      "Losses {'ner': 1.7222220898710505}\n",
      "Losses {'ner': 2.291666984649498}\n",
      "Losses {'ner': 1.708333432674408}\n",
      "Losses {'ner': 2.5714287161827087}\n",
      "Losses {'ner': 0.6666666269302807}\n",
      "Losses {'ner': 2.523809552192688}\n",
      "Losses {'ner': 0.8000000715255771}\n",
      "Losses {'ner': 2.4166667461395273}\n",
      "Losses {'ner': 2.4249999523165586}\n",
      "Losses {'ner': 2.508333683013919}\n",
      "Losses {'ner': 3.1333333253860474}\n",
      "Losses {'ner': 0.8333333134651334}\n",
      "Losses {'ner': 0.8750000000058678}\n",
      "Losses {'ner': 2.522222399711609}\n",
      "Losses {'ner': 0.8333334326851367}\n",
      "Losses {'ner': 1.6333342790657708}\n",
      "Losses {'ner': 2.50000000000005}\n",
      "Losses {'ner': 0.9000000357627869}\n",
      "Losses {'ner': 0.8000000715255737}\n",
      "Losses {'ner': 1.7321428060531616}\n",
      "Losses {'ner': 2.440476179122925}\n",
      "Losses {'ner': 2.4642863273620628}\n",
      "Losses {'ner': 1.657142996788025}\n",
      "Losses {'ner': 2.4666666984558105}\n",
      "Losses {'ner': 1.7142856121063232}\n",
      "Losses {'ner': 0.7500000000014317}\n",
      "Losses {'ner': 1.6571428775787354}\n",
      "Losses {'ner': 1.4999998807907218}\n",
      "Losses {'ner': 0.7500000000000011}\n",
      "Losses {'ner': 0.8333333730697632}\n",
      "Losses {'ner': 2.607142925262473}\n",
      "Losses {'ner': 2.3333332538604794}\n",
      "Losses {'ner': 1.6000000238418592}\n",
      "Losses {'ner': 0.8333333134651251}\n",
      "Losses {'ner': 0.8750001192092896}\n",
      "Losses {'ner': 0.8333333134651184}\n",
      "Losses {'ner': 0.833333432674408}\n",
      "Losses {'ner': 0.8333333730698176}\n",
      "Losses {'ner': 1.6333333253860474}\n",
      "Losses {'ner': 1.6666667461395266}\n",
      "Losses {'ner': 1.6666667461395306}\n",
      "Losses {'ner': 1.7222222089767456}\n",
      "Losses {'ner': 0.8000000715257148}\n",
      "Losses {'ner': 1.638888835906984}\n",
      "Losses {'ner': 2.5793652534484894}\n",
      "Losses {'ner': 1.600000023841859}\n",
      "Losses {'ner': 1.6571428775787358}\n",
      "Losses {'ner': 0.8571429252624532}\n",
      "Losses {'ner': 0.8000000715255772}\n",
      "Losses {'ner': 0.888888896033841}\n",
      "Losses {'ner': 2.424999952316284}\n",
      "Losses {'ner': 0.8750000000006248}\n",
      "Losses {'ner': 1.6571428775866808}\n",
      "Losses {'ner': 2.3000001907348637}\n",
      "Losses {'ner': 0.8333333730697632}\n",
      "Losses {'ner': 0.8750001192092896}\n",
      "Losses {'ner': 0.6666666865349394}\n",
      "Losses {'ner': 0.8571428060531616}\n",
      "Losses {'ner': 0.8888888359069834}\n",
      "Losses {'ner': 0.75000000000001}\n",
      "Losses {'ner': 4.30638123359757e-13}\n",
      "Losses {'ner': 1.6666667461395264}\n",
      "Losses {'ner': 0.7999998927116402}\n",
      "Losses {'ner': 2.550000011920929}\n",
      "Losses {'ner': 0.8999999165534979}\n",
      "Losses {'ner': 1.7222222089767456}\n",
      "Losses {'ner': 0.8333333730697632}\n",
      "Losses {'ner': 3.379365026950836}\n",
      "Losses {'ner': 0.8333333134651186}\n",
      "Losses {'ner': 1.6904761791229248}\n",
      "Losses {'ner': 0.7999999523162842}\n",
      "Losses {'ner': 2.466666579246521}\n",
      "Losses {'ner': 1.4147018024192624e-15}\n",
      "Losses {'ner': 1.6750000715255737}\n",
      "Losses {'ner': 3.155741972093119e-10}\n",
      "Losses {'ner': 1.69047611951828}\n",
      "Losses {'ner': 0.8000000715270947}\n",
      "Losses {'ner': 2.375}\n",
      "Losses {'ner': 1.6071429252624512}\n",
      "Losses {'ner': 2.508333206176758}\n",
      "Losses {'ner': 2.4960317611694336}\n",
      "Losses {'ner': 2.2101591729190885e-14}\n",
      "Losses {'ner': 3.9571458101272583}\n",
      "Losses {'ner': 1.5833333730697712}\n"
     ]
    }
   ],
   "source": [
    "# add labels, Trains data based on annotations \n",
    "if \"ner\" not in nlp.pipe_names:\n",
    "    ner = nlp.create_pipe(\"ner\")\n",
    "    nlp.add_pipe(ner)\n",
    "    # otherwise, get it, so we can add labels to it\n",
    "else:\n",
    "    ner = nlp.get_pipe(\"ner\")\n",
    "\n",
    "ner.add_label(LABEL)  # add new entity label to entity recognizer\n",
    "# Adding extraneous labels shouldn't mess anything up\n",
    "#ner.add_label(\"VEGETABLE\")\n",
    "if model is None:\n",
    "    optimizer = nlp.begin_training()\n",
    "else:\n",
    "    optimizer = nlp.entity.create_optimizer()\n",
    "#move_names = list(ner.move_names)\n",
    "# get names of other pipes to disable them during training\n",
    "#pipe_exceptions = [\"ner\", \"trf_wordpiecer\", \"trf_tok2vec\"]\n",
    "\n",
    "# get names of other pipes to disable them during training\n",
    "other_pipes = [pipe for pipe in nlp.pipe_names if pipe != 'ner']\n",
    "with nlp.disable_pipes(*other_pipes):  # only train NER\n",
    "#    optimizer = nlp.begin_training()\n",
    "    for itn in range(n_iter):\n",
    "        random.shuffle(TRAIN_DATA)\n",
    "        losses = {}\n",
    "        batches=minibatch(TRAIN_DATA,size=compounding(4., 32., 1.001))\n",
    "        for batch in batches:\n",
    "            texts,annotations = zip(*batch)\n",
    "            # Updating the weights\n",
    "            nlp.update(texts, annotations, sgd=optimizer,drop=0.35, losses=losses)\n",
    "        print('Losses', losses)"
   ]
  },
  {
   "cell_type": "code",
   "execution_count": 11,
   "metadata": {},
   "outputs": [],
   "source": [
    "import random"
   ]
  },
  {
   "cell_type": "code",
   "execution_count": 18,
   "metadata": {},
   "outputs": [
    {
     "name": "stdout",
     "output_type": "stream",
     "text": [
      "Entities in 'Exposure to chloroquine was associated with a statistically significant high reporting of amnesia , delirium , hallucinations'\n",
      "CHEMICAL chloroquine\n",
      "DISEASE amnesia\n",
      "DISEASE delirium\n",
      "DISEASE hallucinations\n"
     ]
    }
   ],
   "source": [
    "test_text = \"Exposure to chloroquine was associated with a statistically significant high reporting of amnesia , delirium , hallucinations\"\n",
    "doc = ner_model(test_text)\n",
    "print(\"Entities in '%s'\" % test_text)\n",
    "for ent in doc.ents:\n",
    "    print(ent.label_, ent.text)"
   ]
  },
  {
   "cell_type": "code",
   "execution_count": 20,
   "metadata": {},
   "outputs": [
    {
     "data": {
      "text/html": [
       "<span class=\"tex2jax_ignore\"><div class=\"entities\" style=\"line-height: 2.5; direction: ltr\">Exposure to \n",
       "<mark class=\"entity\" style=\"background: lightpink; padding: 0.45em 0.6em; margin: 0 0.25em; line-height: 1; border-radius: 0.35em;\">\n",
       "    chloroquine\n",
       "    <span style=\"font-size: 0.8em; font-weight: bold; line-height: 1; border-radius: 0.35em; text-transform: uppercase; vertical-align: middle; margin-left: 0.5rem\">CHEMICAL</span>\n",
       "</mark>\n",
       " was associated with a statistically significant high reporting of \n",
       "<mark class=\"entity\" style=\"background: #ddd; padding: 0.45em 0.6em; margin: 0 0.25em; line-height: 1; border-radius: 0.35em;\">\n",
       "    amnesia\n",
       "    <span style=\"font-size: 0.8em; font-weight: bold; line-height: 1; border-radius: 0.35em; text-transform: uppercase; vertical-align: middle; margin-left: 0.5rem\">DISEASE</span>\n",
       "</mark>\n",
       " , \n",
       "<mark class=\"entity\" style=\"background: #ddd; padding: 0.45em 0.6em; margin: 0 0.25em; line-height: 1; border-radius: 0.35em;\">\n",
       "    delirium\n",
       "    <span style=\"font-size: 0.8em; font-weight: bold; line-height: 1; border-radius: 0.35em; text-transform: uppercase; vertical-align: middle; margin-left: 0.5rem\">DISEASE</span>\n",
       "</mark>\n",
       " , \n",
       "<mark class=\"entity\" style=\"background: #ddd; padding: 0.45em 0.6em; margin: 0 0.25em; line-height: 1; border-radius: 0.35em;\">\n",
       "    hallucinations\n",
       "    <span style=\"font-size: 0.8em; font-weight: bold; line-height: 1; border-radius: 0.35em; text-transform: uppercase; vertical-align: middle; margin-left: 0.5rem\">DISEASE</span>\n",
       "</mark>\n",
       "</div></span>"
      ],
      "text/plain": [
       "<IPython.core.display.HTML object>"
      ]
     },
     "metadata": {},
     "output_type": "display_data"
    }
   ],
   "source": [
    "colors = {\n",
    "    'CHEMICAL': 'lightpink',\n",
    "    'ADRS': 'lightgreen',\n",
    "}\n",
    "displacy.render(doc, style='ent', options={\n",
    "    'colors': colors\n",
    "})"
   ]
  },
  {
   "cell_type": "code",
   "execution_count": null,
   "metadata": {},
   "outputs": [],
   "source": []
  }
 ],
 "metadata": {
  "kernelspec": {
   "display_name": "Python 3",
   "language": "python",
   "name": "python3"
  },
  "language_info": {
   "codemirror_mode": {
    "name": "ipython",
    "version": 3
   },
   "file_extension": ".py",
   "mimetype": "text/x-python",
   "name": "python",
   "nbconvert_exporter": "python",
   "pygments_lexer": "ipython3",
   "version": "3.7.0"
  }
 },
 "nbformat": 4,
 "nbformat_minor": 4
}
